{
 "cells": [
  {
   "cell_type": "code",
   "execution_count": 6,
   "id": "bbbec36a-267d-440c-9b09-45bfa3ed1eea",
   "metadata": {},
   "outputs": [
    {
     "name": "stdout",
     "output_type": "stream",
     "text": [
      "letter: a\n",
      "letter: b\n",
      "letter: c\n",
      "Stop!\n"
     ]
    }
   ],
   "source": [
    "alp = ['a', 'b',  'c']\n",
    "for letter in alp:\n",
    "   print ('letter: %s'% letter)\n",
    " \n",
    "print (\"Stop!\")"
   ]
  },
  {
   "cell_type": "code",
   "execution_count": null,
   "id": "2dade3fb-7f95-40ac-a1c7-ba277e72421f",
   "metadata": {},
   "outputs": [],
   "source": []
  }
 ],
 "metadata": {
  "kernelspec": {
   "display_name": "Python 3 (ipykernel)",
   "language": "python",
   "name": "python3"
  },
  "language_info": {
   "codemirror_mode": {
    "name": "ipython",
    "version": 3
   },
   "file_extension": ".py",
   "mimetype": "text/x-python",
   "name": "python",
   "nbconvert_exporter": "python",
   "pygments_lexer": "ipython3",
   "version": "3.12.7"
  }
 },
 "nbformat": 4,
 "nbformat_minor": 5
}
