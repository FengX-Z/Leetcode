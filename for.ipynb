{
 "cells": [
  {
   "cell_type": "code",
   "execution_count": 6,
   "id": "bbbec36a-267d-440c-9b09-45bfa3ed1eea",
   "metadata": {},
   "outputs": [
    {
     "name": "stdout",
     "output_type": "stream",
     "text": [
      "letter: a\n",
      "letter: b\n",
      "letter: c\n",
      "Stop!\n"
     ]
    }
   ],
   "source": [
    "alp = ['a', 'b',  'c']\n",
    "for letter in alp:\n",
    "   print ('letter: %s'% letter)\n",
    " \n",
    "print (\"Stop!\")"
   ]
  },
  {
   "cell_type": "code",
   "execution_count": 9,
   "id": "2dade3fb-7f95-40ac-a1c7-ba277e72421f",
   "metadata": {},
   "outputs": [
    {
     "name": "stdout",
     "output_type": "stream",
     "text": [
      "50 等于 2 * 25\n",
      "51 等于 3 * 17\n",
      "52 等于 2 * 26\n",
      "53 是一个质数\n",
      "54 等于 2 * 27\n",
      "55 等于 5 * 11\n",
      "56 等于 2 * 28\n",
      "57 等于 3 * 19\n",
      "58 等于 2 * 29\n",
      "59 是一个质数\n"
     ]
    }
   ],
   "source": [
    "for num in range(50,60):\n",
    "   for i in range(2,num):\n",
    "      if num%i == 0:\n",
    "         j=num/i\n",
    "         print ('%d 等于 %d * %d' % (num,i,j))\n",
    "         break\n",
    "   else:\n",
    "      print ('%d 是一个质数' % num)"
   ]
  },
  {
   "cell_type": "code",
   "execution_count": null,
   "id": "0e2b954f-3cf8-44e8-8526-5a986a87e3ff",
   "metadata": {},
   "outputs": [],
   "source": []
  }
 ],
 "metadata": {
  "kernelspec": {
   "display_name": "Python 3 (ipykernel)",
   "language": "python",
   "name": "python3"
  },
  "language_info": {
   "codemirror_mode": {
    "name": "ipython",
    "version": 3
   },
   "file_extension": ".py",
   "mimetype": "text/x-python",
   "name": "python",
   "nbconvert_exporter": "python",
   "pygments_lexer": "ipython3",
   "version": "3.12.7"
  }
 },
 "nbformat": 4,
 "nbformat_minor": 5
}
