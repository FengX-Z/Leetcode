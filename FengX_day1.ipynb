{
 "cells": [
  {
   "cell_type": "markdown",
   "id": "4096df46",
   "metadata": {},
   "source": [
    "# Personal excercise 1"
   ]
  },
  {
   "cell_type": "markdown",
   "id": "aa586ebf",
   "metadata": {},
   "source": [
    "#### 1. Generate a one-dimensional array ranging from 0.1, 0.2, 0.3, 0.4, 0.5... up to 50 using np.arange, and name this set of data as fx."
   ]
  },
  {
   "cell_type": "markdown",
   "id": "248fe8b7",
   "metadata": {},
   "source": [
    "#### 使用np.arange生成一个0.1，0.2，0.3，0.4，0.5...一直到50的一维array，把这组数据命名为fx。"
   ]
  },
  {
   "cell_type": "code",
   "execution_count": null,
   "id": "8488a37d",
   "metadata": {},
   "outputs": [],
   "source": []
  },
  {
   "cell_type": "markdown",
   "id": "95ff1b7a",
   "metadata": {},
   "source": [
    "#### 2. Generate fy with the same shape as fx by adding noise to fy = sin(fx) (search how to generate noise using NumPy), and also obtain the true values fy_truth."
   ]
  },
  {
   "cell_type": "markdown",
   "id": "8b50828f",
   "metadata": {},
   "source": [
    "#### 用fy = sin(fx)加上噪声（搜索numpy怎么生成噪声），生成和fx形状相同的fy，同时得到真实的fy_truth。"
   ]
  },
  {
   "cell_type": "code",
   "execution_count": null,
   "id": "d178082c",
   "metadata": {},
   "outputs": [],
   "source": []
  },
  {
   "cell_type": "markdown",
   "id": "a4a5d14f",
   "metadata": {},
   "source": [
    "#### 3. Search for the concepts of \"norm\" and \"loss function\", and summarize them in Markdown formula format below."
   ]
  },
  {
   "cell_type": "markdown",
   "id": "431f9e9a",
   "metadata": {},
   "source": [
    "#### 搜索norm和损失函数，把它们的总结用markdown的公式格式写在下面。"
   ]
  },
  {
   "cell_type": "code",
   "execution_count": null,
   "id": "969afe7c",
   "metadata": {},
   "outputs": [],
   "source": []
  },
  {
   "cell_type": "markdown",
   "id": "332fa926",
   "metadata": {},
   "source": [
    "#### 4. Search for the concepts of \"norm\" and \"loss function\", and summarize them in Markdown formula format below."
   ]
  },
  {
   "cell_type": "markdown",
   "id": "7f049cf3",
   "metadata": {},
   "source": [
    "#### 搜索norm和损失函数，把它们的总结用markdown的公式格式写在下面。"
   ]
  },
  {
   "cell_type": "code",
   "execution_count": null,
   "id": "3aaf31c0",
   "metadata": {},
   "outputs": [],
   "source": []
  },
  {
   "cell_type": "markdown",
   "id": "9e37912d",
   "metadata": {},
   "source": [
    "#### 5. Search for ways to avoid overfitting and underfitting, and write down below."
   ]
  },
  {
   "cell_type": "markdown",
   "id": "5f79ba95",
   "metadata": {},
   "source": [
    "#### 搜索怎么避免过拟合和欠拟合？"
   ]
  },
  {
   "cell_type": "code",
   "execution_count": null,
   "id": "0c45e446",
   "metadata": {},
   "outputs": [],
   "source": []
  },
  {
   "cell_type": "markdown",
   "id": "1633cab0",
   "metadata": {},
   "source": [
    "#### 6. Calculate the Mean Squared Error (MSE) between fy and fy_truth."
   ]
  },
  {
   "cell_type": "markdown",
   "id": "4e7d7a08",
   "metadata": {},
   "source": [
    "#### 计算fy和fy_truth的MSE。"
   ]
  },
  {
   "cell_type": "code",
   "execution_count": null,
   "id": "f73b4456",
   "metadata": {},
   "outputs": [],
   "source": []
  }
 ],
 "metadata": {
  "kernelspec": {
   "display_name": "Python 3 (ipykernel)",
   "language": "python",
   "name": "python3"
  },
  "language_info": {
   "codemirror_mode": {
    "name": "ipython",
    "version": 3
   },
   "file_extension": ".py",
   "mimetype": "text/x-python",
   "name": "python",
   "nbconvert_exporter": "python",
   "pygments_lexer": "ipython3",
   "version": "3.8.18"
  }
 },
 "nbformat": 4,
 "nbformat_minor": 5
}
